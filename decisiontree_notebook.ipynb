{
 "cells": [
  {
   "cell_type": "markdown",
   "id": "b045c33a",
   "metadata": {},
   "source": [
    "# Imports"
   ]
  },
  {
   "cell_type": "code",
   "execution_count": 1,
   "id": "9873f3e4",
   "metadata": {},
   "outputs": [],
   "source": [
    "import pandas as pd\n",
    "from sklearn.linear_model import LogisticRegression\n",
    "from sklearn.model_selection import train_test_split\n",
    "from sklearn.tree import DecisionTreeClassifier\n",
    "from sklearn.metrics import accuracy_score\n",
    "import matplotlib.pyplot as plt"
   ]
  },
  {
   "cell_type": "code",
   "execution_count": 2,
   "id": "6695b755",
   "metadata": {},
   "outputs": [],
   "source": [
    "df = pd.read_csv('preprocessed_df.csv', index_col=0)"
   ]
  },
  {
   "cell_type": "code",
   "execution_count": 3,
   "id": "097b0b6d",
   "metadata": {},
   "outputs": [
    {
     "data": {
      "text/plain": [
       "Index(['lat', 'long', 'BIRD', 'CAT', 'DOG', 'EXOTIC', 'FOWL', 'LIVESTOCK',\n",
       "       'OTHER', 'REPTILE', 'WILDLIFE', 'HERDING', 'HOUND', 'MIXED',\n",
       "       'NONSPORTING', 'OTHER_BREED', 'SPORTING', 'TERRIER', 'TOY', 'WORKING',\n",
       "       'F', 'M', 'U', 'EXTRA LARGE', 'LARGE', 'MEDIUM', 'SMALL', 'EMACIATED',\n",
       "       'EXCELLENT', 'FAIR', 'GOOD', 'POOR', 'SUMMER', 'SPRING', 'FALL',\n",
       "       'WINTER', 'NORMAL', 'FRIENDLY', 'NERVOUS', 'DANGEROUS', 'SCARED'],\n",
       "      dtype='object')"
      ]
     },
     "execution_count": 3,
     "metadata": {},
     "output_type": "execute_result"
    }
   ],
   "source": [
    "df.columns"
   ]
  },
  {
   "cell_type": "code",
   "execution_count": 4,
   "id": "200a2006",
   "metadata": {},
   "outputs": [
    {
     "data": {
      "text/html": [
       "<div>\n",
       "<style scoped>\n",
       "    .dataframe tbody tr th:only-of-type {\n",
       "        vertical-align: middle;\n",
       "    }\n",
       "\n",
       "    .dataframe tbody tr th {\n",
       "        vertical-align: top;\n",
       "    }\n",
       "\n",
       "    .dataframe thead th {\n",
       "        text-align: right;\n",
       "    }\n",
       "</style>\n",
       "<table border=\"1\" class=\"dataframe\">\n",
       "  <thead>\n",
       "    <tr style=\"text-align: right;\">\n",
       "      <th></th>\n",
       "      <th>lat</th>\n",
       "      <th>long</th>\n",
       "      <th>BIRD</th>\n",
       "      <th>CAT</th>\n",
       "      <th>DOG</th>\n",
       "      <th>EXOTIC</th>\n",
       "      <th>FOWL</th>\n",
       "      <th>LIVESTOCK</th>\n",
       "      <th>OTHER</th>\n",
       "      <th>REPTILE</th>\n",
       "      <th>...</th>\n",
       "      <th>POOR</th>\n",
       "      <th>SUMMER</th>\n",
       "      <th>SPRING</th>\n",
       "      <th>FALL</th>\n",
       "      <th>WINTER</th>\n",
       "      <th>NORMAL</th>\n",
       "      <th>FRIENDLY</th>\n",
       "      <th>NERVOUS</th>\n",
       "      <th>DANGEROUS</th>\n",
       "      <th>SCARED</th>\n",
       "    </tr>\n",
       "  </thead>\n",
       "  <tbody>\n",
       "    <tr>\n",
       "      <th>0</th>\n",
       "      <td>30.494640</td>\n",
       "      <td>-91.156160</td>\n",
       "      <td>0.0</td>\n",
       "      <td>0.0</td>\n",
       "      <td>1.0</td>\n",
       "      <td>0.0</td>\n",
       "      <td>0.0</td>\n",
       "      <td>0.0</td>\n",
       "      <td>0.0</td>\n",
       "      <td>0.0</td>\n",
       "      <td>...</td>\n",
       "      <td>0.0</td>\n",
       "      <td>0</td>\n",
       "      <td>0</td>\n",
       "      <td>0</td>\n",
       "      <td>1</td>\n",
       "      <td>0</td>\n",
       "      <td>1</td>\n",
       "      <td>0</td>\n",
       "      <td>0</td>\n",
       "      <td>0</td>\n",
       "    </tr>\n",
       "    <tr>\n",
       "      <th>1</th>\n",
       "      <td>30.431417</td>\n",
       "      <td>-91.141070</td>\n",
       "      <td>0.0</td>\n",
       "      <td>0.0</td>\n",
       "      <td>0.0</td>\n",
       "      <td>0.0</td>\n",
       "      <td>0.0</td>\n",
       "      <td>0.0</td>\n",
       "      <td>0.0</td>\n",
       "      <td>0.0</td>\n",
       "      <td>...</td>\n",
       "      <td>0.0</td>\n",
       "      <td>0</td>\n",
       "      <td>0</td>\n",
       "      <td>0</td>\n",
       "      <td>1</td>\n",
       "      <td>1</td>\n",
       "      <td>0</td>\n",
       "      <td>0</td>\n",
       "      <td>0</td>\n",
       "      <td>0</td>\n",
       "    </tr>\n",
       "    <tr>\n",
       "      <th>2</th>\n",
       "      <td>30.648540</td>\n",
       "      <td>-91.156770</td>\n",
       "      <td>0.0</td>\n",
       "      <td>0.0</td>\n",
       "      <td>1.0</td>\n",
       "      <td>0.0</td>\n",
       "      <td>0.0</td>\n",
       "      <td>0.0</td>\n",
       "      <td>0.0</td>\n",
       "      <td>0.0</td>\n",
       "      <td>...</td>\n",
       "      <td>0.0</td>\n",
       "      <td>0</td>\n",
       "      <td>0</td>\n",
       "      <td>0</td>\n",
       "      <td>1</td>\n",
       "      <td>0</td>\n",
       "      <td>1</td>\n",
       "      <td>0</td>\n",
       "      <td>0</td>\n",
       "      <td>0</td>\n",
       "    </tr>\n",
       "    <tr>\n",
       "      <th>3</th>\n",
       "      <td>30.476015</td>\n",
       "      <td>-91.168460</td>\n",
       "      <td>0.0</td>\n",
       "      <td>0.0</td>\n",
       "      <td>1.0</td>\n",
       "      <td>0.0</td>\n",
       "      <td>0.0</td>\n",
       "      <td>0.0</td>\n",
       "      <td>0.0</td>\n",
       "      <td>0.0</td>\n",
       "      <td>...</td>\n",
       "      <td>0.0</td>\n",
       "      <td>0</td>\n",
       "      <td>0</td>\n",
       "      <td>0</td>\n",
       "      <td>1</td>\n",
       "      <td>0</td>\n",
       "      <td>1</td>\n",
       "      <td>0</td>\n",
       "      <td>0</td>\n",
       "      <td>0</td>\n",
       "    </tr>\n",
       "    <tr>\n",
       "      <th>4</th>\n",
       "      <td>30.429104</td>\n",
       "      <td>-91.185036</td>\n",
       "      <td>0.0</td>\n",
       "      <td>0.0</td>\n",
       "      <td>1.0</td>\n",
       "      <td>0.0</td>\n",
       "      <td>0.0</td>\n",
       "      <td>0.0</td>\n",
       "      <td>0.0</td>\n",
       "      <td>0.0</td>\n",
       "      <td>...</td>\n",
       "      <td>0.0</td>\n",
       "      <td>0</td>\n",
       "      <td>0</td>\n",
       "      <td>0</td>\n",
       "      <td>1</td>\n",
       "      <td>1</td>\n",
       "      <td>0</td>\n",
       "      <td>0</td>\n",
       "      <td>0</td>\n",
       "      <td>0</td>\n",
       "    </tr>\n",
       "    <tr>\n",
       "      <th>...</th>\n",
       "      <td>...</td>\n",
       "      <td>...</td>\n",
       "      <td>...</td>\n",
       "      <td>...</td>\n",
       "      <td>...</td>\n",
       "      <td>...</td>\n",
       "      <td>...</td>\n",
       "      <td>...</td>\n",
       "      <td>...</td>\n",
       "      <td>...</td>\n",
       "      <td>...</td>\n",
       "      <td>...</td>\n",
       "      <td>...</td>\n",
       "      <td>...</td>\n",
       "      <td>...</td>\n",
       "      <td>...</td>\n",
       "      <td>...</td>\n",
       "      <td>...</td>\n",
       "      <td>...</td>\n",
       "      <td>...</td>\n",
       "      <td>...</td>\n",
       "    </tr>\n",
       "    <tr>\n",
       "      <th>36118</th>\n",
       "      <td>30.475130</td>\n",
       "      <td>-91.156157</td>\n",
       "      <td>0.0</td>\n",
       "      <td>0.0</td>\n",
       "      <td>1.0</td>\n",
       "      <td>0.0</td>\n",
       "      <td>0.0</td>\n",
       "      <td>0.0</td>\n",
       "      <td>0.0</td>\n",
       "      <td>0.0</td>\n",
       "      <td>...</td>\n",
       "      <td>0.0</td>\n",
       "      <td>0</td>\n",
       "      <td>0</td>\n",
       "      <td>0</td>\n",
       "      <td>1</td>\n",
       "      <td>1</td>\n",
       "      <td>0</td>\n",
       "      <td>0</td>\n",
       "      <td>0</td>\n",
       "      <td>0</td>\n",
       "    </tr>\n",
       "    <tr>\n",
       "      <th>36119</th>\n",
       "      <td>30.451468</td>\n",
       "      <td>-91.187147</td>\n",
       "      <td>0.0</td>\n",
       "      <td>0.0</td>\n",
       "      <td>1.0</td>\n",
       "      <td>0.0</td>\n",
       "      <td>0.0</td>\n",
       "      <td>0.0</td>\n",
       "      <td>0.0</td>\n",
       "      <td>0.0</td>\n",
       "      <td>...</td>\n",
       "      <td>0.0</td>\n",
       "      <td>0</td>\n",
       "      <td>0</td>\n",
       "      <td>0</td>\n",
       "      <td>1</td>\n",
       "      <td>0</td>\n",
       "      <td>0</td>\n",
       "      <td>1</td>\n",
       "      <td>0</td>\n",
       "      <td>0</td>\n",
       "    </tr>\n",
       "    <tr>\n",
       "      <th>36120</th>\n",
       "      <td>30.355068</td>\n",
       "      <td>-91.122734</td>\n",
       "      <td>0.0</td>\n",
       "      <td>0.0</td>\n",
       "      <td>1.0</td>\n",
       "      <td>0.0</td>\n",
       "      <td>0.0</td>\n",
       "      <td>0.0</td>\n",
       "      <td>0.0</td>\n",
       "      <td>0.0</td>\n",
       "      <td>...</td>\n",
       "      <td>0.0</td>\n",
       "      <td>0</td>\n",
       "      <td>0</td>\n",
       "      <td>1</td>\n",
       "      <td>0</td>\n",
       "      <td>0</td>\n",
       "      <td>1</td>\n",
       "      <td>0</td>\n",
       "      <td>0</td>\n",
       "      <td>0</td>\n",
       "    </tr>\n",
       "    <tr>\n",
       "      <th>36121</th>\n",
       "      <td>30.389151</td>\n",
       "      <td>-91.207927</td>\n",
       "      <td>0.0</td>\n",
       "      <td>0.0</td>\n",
       "      <td>1.0</td>\n",
       "      <td>0.0</td>\n",
       "      <td>0.0</td>\n",
       "      <td>0.0</td>\n",
       "      <td>0.0</td>\n",
       "      <td>0.0</td>\n",
       "      <td>...</td>\n",
       "      <td>0.0</td>\n",
       "      <td>0</td>\n",
       "      <td>0</td>\n",
       "      <td>0</td>\n",
       "      <td>1</td>\n",
       "      <td>0</td>\n",
       "      <td>1</td>\n",
       "      <td>0</td>\n",
       "      <td>0</td>\n",
       "      <td>0</td>\n",
       "    </tr>\n",
       "    <tr>\n",
       "      <th>36122</th>\n",
       "      <td>30.354927</td>\n",
       "      <td>-91.124828</td>\n",
       "      <td>0.0</td>\n",
       "      <td>0.0</td>\n",
       "      <td>1.0</td>\n",
       "      <td>0.0</td>\n",
       "      <td>0.0</td>\n",
       "      <td>0.0</td>\n",
       "      <td>0.0</td>\n",
       "      <td>0.0</td>\n",
       "      <td>...</td>\n",
       "      <td>0.0</td>\n",
       "      <td>1</td>\n",
       "      <td>0</td>\n",
       "      <td>0</td>\n",
       "      <td>0</td>\n",
       "      <td>0</td>\n",
       "      <td>1</td>\n",
       "      <td>0</td>\n",
       "      <td>0</td>\n",
       "      <td>0</td>\n",
       "    </tr>\n",
       "  </tbody>\n",
       "</table>\n",
       "<p>36123 rows × 41 columns</p>\n",
       "</div>"
      ],
      "text/plain": [
       "             lat       long  BIRD  CAT  DOG  EXOTIC  FOWL  LIVESTOCK  OTHER  \\\n",
       "0      30.494640 -91.156160   0.0  0.0  1.0     0.0   0.0        0.0    0.0   \n",
       "1      30.431417 -91.141070   0.0  0.0  0.0     0.0   0.0        0.0    0.0   \n",
       "2      30.648540 -91.156770   0.0  0.0  1.0     0.0   0.0        0.0    0.0   \n",
       "3      30.476015 -91.168460   0.0  0.0  1.0     0.0   0.0        0.0    0.0   \n",
       "4      30.429104 -91.185036   0.0  0.0  1.0     0.0   0.0        0.0    0.0   \n",
       "...          ...        ...   ...  ...  ...     ...   ...        ...    ...   \n",
       "36118  30.475130 -91.156157   0.0  0.0  1.0     0.0   0.0        0.0    0.0   \n",
       "36119  30.451468 -91.187147   0.0  0.0  1.0     0.0   0.0        0.0    0.0   \n",
       "36120  30.355068 -91.122734   0.0  0.0  1.0     0.0   0.0        0.0    0.0   \n",
       "36121  30.389151 -91.207927   0.0  0.0  1.0     0.0   0.0        0.0    0.0   \n",
       "36122  30.354927 -91.124828   0.0  0.0  1.0     0.0   0.0        0.0    0.0   \n",
       "\n",
       "       REPTILE  ...  POOR  SUMMER  SPRING  FALL  WINTER  NORMAL  FRIENDLY  \\\n",
       "0          0.0  ...   0.0       0       0     0       1       0         1   \n",
       "1          0.0  ...   0.0       0       0     0       1       1         0   \n",
       "2          0.0  ...   0.0       0       0     0       1       0         1   \n",
       "3          0.0  ...   0.0       0       0     0       1       0         1   \n",
       "4          0.0  ...   0.0       0       0     0       1       1         0   \n",
       "...        ...  ...   ...     ...     ...   ...     ...     ...       ...   \n",
       "36118      0.0  ...   0.0       0       0     0       1       1         0   \n",
       "36119      0.0  ...   0.0       0       0     0       1       0         0   \n",
       "36120      0.0  ...   0.0       0       0     1       0       0         1   \n",
       "36121      0.0  ...   0.0       0       0     0       1       0         1   \n",
       "36122      0.0  ...   0.0       1       0     0       0       0         1   \n",
       "\n",
       "       NERVOUS  DANGEROUS  SCARED  \n",
       "0            0          0       0  \n",
       "1            0          0       0  \n",
       "2            0          0       0  \n",
       "3            0          0       0  \n",
       "4            0          0       0  \n",
       "...        ...        ...     ...  \n",
       "36118        0          0       0  \n",
       "36119        1          0       0  \n",
       "36120        0          0       0  \n",
       "36121        0          0       0  \n",
       "36122        0          0       0  \n",
       "\n",
       "[36123 rows x 41 columns]"
      ]
     },
     "execution_count": 4,
     "metadata": {},
     "output_type": "execute_result"
    }
   ],
   "source": [
    "df"
   ]
  },
  {
   "cell_type": "markdown",
   "id": "53240e4d",
   "metadata": {},
   "source": [
    "# Initial Decision Tree Model"
   ]
  },
  {
   "cell_type": "code",
   "execution_count": 10,
   "id": "75a102e2",
   "metadata": {},
   "outputs": [],
   "source": [
    "y = df['NORMAL'] + df['FRIENDLY']\n",
    "X = df.drop(columns=['NORMAL', 'FRIENDLY', 'NERVOUS', 'DANGEROUS', 'SCARED'])"
   ]
  },
  {
   "cell_type": "code",
   "execution_count": 11,
   "id": "8762097d",
   "metadata": {},
   "outputs": [
    {
     "data": {
      "text/html": [
       "<div>\n",
       "<style scoped>\n",
       "    .dataframe tbody tr th:only-of-type {\n",
       "        vertical-align: middle;\n",
       "    }\n",
       "\n",
       "    .dataframe tbody tr th {\n",
       "        vertical-align: top;\n",
       "    }\n",
       "\n",
       "    .dataframe thead th {\n",
       "        text-align: right;\n",
       "    }\n",
       "</style>\n",
       "<table border=\"1\" class=\"dataframe\">\n",
       "  <thead>\n",
       "    <tr style=\"text-align: right;\">\n",
       "      <th></th>\n",
       "      <th>lat</th>\n",
       "      <th>long</th>\n",
       "      <th>BIRD</th>\n",
       "      <th>CAT</th>\n",
       "      <th>DOG</th>\n",
       "      <th>EXOTIC</th>\n",
       "      <th>FOWL</th>\n",
       "      <th>LIVESTOCK</th>\n",
       "      <th>OTHER</th>\n",
       "      <th>REPTILE</th>\n",
       "      <th>...</th>\n",
       "      <th>SMALL</th>\n",
       "      <th>EMACIATED</th>\n",
       "      <th>EXCELLENT</th>\n",
       "      <th>FAIR</th>\n",
       "      <th>GOOD</th>\n",
       "      <th>POOR</th>\n",
       "      <th>SUMMER</th>\n",
       "      <th>SPRING</th>\n",
       "      <th>FALL</th>\n",
       "      <th>WINTER</th>\n",
       "    </tr>\n",
       "  </thead>\n",
       "  <tbody>\n",
       "    <tr>\n",
       "      <th>0</th>\n",
       "      <td>30.494640</td>\n",
       "      <td>-91.156160</td>\n",
       "      <td>0.0</td>\n",
       "      <td>0.0</td>\n",
       "      <td>1.0</td>\n",
       "      <td>0.0</td>\n",
       "      <td>0.0</td>\n",
       "      <td>0.0</td>\n",
       "      <td>0.0</td>\n",
       "      <td>0.0</td>\n",
       "      <td>...</td>\n",
       "      <td>0.0</td>\n",
       "      <td>0.0</td>\n",
       "      <td>0.0</td>\n",
       "      <td>1.0</td>\n",
       "      <td>0.0</td>\n",
       "      <td>0.0</td>\n",
       "      <td>0</td>\n",
       "      <td>0</td>\n",
       "      <td>0</td>\n",
       "      <td>1</td>\n",
       "    </tr>\n",
       "    <tr>\n",
       "      <th>1</th>\n",
       "      <td>30.431417</td>\n",
       "      <td>-91.141070</td>\n",
       "      <td>0.0</td>\n",
       "      <td>0.0</td>\n",
       "      <td>0.0</td>\n",
       "      <td>0.0</td>\n",
       "      <td>0.0</td>\n",
       "      <td>0.0</td>\n",
       "      <td>0.0</td>\n",
       "      <td>0.0</td>\n",
       "      <td>...</td>\n",
       "      <td>0.0</td>\n",
       "      <td>0.0</td>\n",
       "      <td>0.0</td>\n",
       "      <td>1.0</td>\n",
       "      <td>0.0</td>\n",
       "      <td>0.0</td>\n",
       "      <td>0</td>\n",
       "      <td>0</td>\n",
       "      <td>0</td>\n",
       "      <td>1</td>\n",
       "    </tr>\n",
       "    <tr>\n",
       "      <th>2</th>\n",
       "      <td>30.648540</td>\n",
       "      <td>-91.156770</td>\n",
       "      <td>0.0</td>\n",
       "      <td>0.0</td>\n",
       "      <td>1.0</td>\n",
       "      <td>0.0</td>\n",
       "      <td>0.0</td>\n",
       "      <td>0.0</td>\n",
       "      <td>0.0</td>\n",
       "      <td>0.0</td>\n",
       "      <td>...</td>\n",
       "      <td>0.0</td>\n",
       "      <td>1.0</td>\n",
       "      <td>0.0</td>\n",
       "      <td>0.0</td>\n",
       "      <td>0.0</td>\n",
       "      <td>0.0</td>\n",
       "      <td>0</td>\n",
       "      <td>0</td>\n",
       "      <td>0</td>\n",
       "      <td>1</td>\n",
       "    </tr>\n",
       "    <tr>\n",
       "      <th>3</th>\n",
       "      <td>30.476015</td>\n",
       "      <td>-91.168460</td>\n",
       "      <td>0.0</td>\n",
       "      <td>0.0</td>\n",
       "      <td>1.0</td>\n",
       "      <td>0.0</td>\n",
       "      <td>0.0</td>\n",
       "      <td>0.0</td>\n",
       "      <td>0.0</td>\n",
       "      <td>0.0</td>\n",
       "      <td>...</td>\n",
       "      <td>0.0</td>\n",
       "      <td>1.0</td>\n",
       "      <td>0.0</td>\n",
       "      <td>0.0</td>\n",
       "      <td>0.0</td>\n",
       "      <td>0.0</td>\n",
       "      <td>0</td>\n",
       "      <td>0</td>\n",
       "      <td>0</td>\n",
       "      <td>1</td>\n",
       "    </tr>\n",
       "    <tr>\n",
       "      <th>4</th>\n",
       "      <td>30.429104</td>\n",
       "      <td>-91.185036</td>\n",
       "      <td>0.0</td>\n",
       "      <td>0.0</td>\n",
       "      <td>1.0</td>\n",
       "      <td>0.0</td>\n",
       "      <td>0.0</td>\n",
       "      <td>0.0</td>\n",
       "      <td>0.0</td>\n",
       "      <td>0.0</td>\n",
       "      <td>...</td>\n",
       "      <td>1.0</td>\n",
       "      <td>1.0</td>\n",
       "      <td>0.0</td>\n",
       "      <td>0.0</td>\n",
       "      <td>0.0</td>\n",
       "      <td>0.0</td>\n",
       "      <td>0</td>\n",
       "      <td>0</td>\n",
       "      <td>0</td>\n",
       "      <td>1</td>\n",
       "    </tr>\n",
       "    <tr>\n",
       "      <th>...</th>\n",
       "      <td>...</td>\n",
       "      <td>...</td>\n",
       "      <td>...</td>\n",
       "      <td>...</td>\n",
       "      <td>...</td>\n",
       "      <td>...</td>\n",
       "      <td>...</td>\n",
       "      <td>...</td>\n",
       "      <td>...</td>\n",
       "      <td>...</td>\n",
       "      <td>...</td>\n",
       "      <td>...</td>\n",
       "      <td>...</td>\n",
       "      <td>...</td>\n",
       "      <td>...</td>\n",
       "      <td>...</td>\n",
       "      <td>...</td>\n",
       "      <td>...</td>\n",
       "      <td>...</td>\n",
       "      <td>...</td>\n",
       "      <td>...</td>\n",
       "    </tr>\n",
       "    <tr>\n",
       "      <th>36118</th>\n",
       "      <td>30.475130</td>\n",
       "      <td>-91.156157</td>\n",
       "      <td>0.0</td>\n",
       "      <td>0.0</td>\n",
       "      <td>1.0</td>\n",
       "      <td>0.0</td>\n",
       "      <td>0.0</td>\n",
       "      <td>0.0</td>\n",
       "      <td>0.0</td>\n",
       "      <td>0.0</td>\n",
       "      <td>...</td>\n",
       "      <td>0.0</td>\n",
       "      <td>0.0</td>\n",
       "      <td>0.0</td>\n",
       "      <td>0.0</td>\n",
       "      <td>1.0</td>\n",
       "      <td>0.0</td>\n",
       "      <td>0</td>\n",
       "      <td>0</td>\n",
       "      <td>0</td>\n",
       "      <td>1</td>\n",
       "    </tr>\n",
       "    <tr>\n",
       "      <th>36119</th>\n",
       "      <td>30.451468</td>\n",
       "      <td>-91.187147</td>\n",
       "      <td>0.0</td>\n",
       "      <td>0.0</td>\n",
       "      <td>1.0</td>\n",
       "      <td>0.0</td>\n",
       "      <td>0.0</td>\n",
       "      <td>0.0</td>\n",
       "      <td>0.0</td>\n",
       "      <td>0.0</td>\n",
       "      <td>...</td>\n",
       "      <td>0.0</td>\n",
       "      <td>0.0</td>\n",
       "      <td>0.0</td>\n",
       "      <td>1.0</td>\n",
       "      <td>0.0</td>\n",
       "      <td>0.0</td>\n",
       "      <td>0</td>\n",
       "      <td>0</td>\n",
       "      <td>0</td>\n",
       "      <td>1</td>\n",
       "    </tr>\n",
       "    <tr>\n",
       "      <th>36120</th>\n",
       "      <td>30.355068</td>\n",
       "      <td>-91.122734</td>\n",
       "      <td>0.0</td>\n",
       "      <td>0.0</td>\n",
       "      <td>1.0</td>\n",
       "      <td>0.0</td>\n",
       "      <td>0.0</td>\n",
       "      <td>0.0</td>\n",
       "      <td>0.0</td>\n",
       "      <td>0.0</td>\n",
       "      <td>...</td>\n",
       "      <td>0.0</td>\n",
       "      <td>0.0</td>\n",
       "      <td>0.0</td>\n",
       "      <td>1.0</td>\n",
       "      <td>0.0</td>\n",
       "      <td>0.0</td>\n",
       "      <td>0</td>\n",
       "      <td>0</td>\n",
       "      <td>1</td>\n",
       "      <td>0</td>\n",
       "    </tr>\n",
       "    <tr>\n",
       "      <th>36121</th>\n",
       "      <td>30.389151</td>\n",
       "      <td>-91.207927</td>\n",
       "      <td>0.0</td>\n",
       "      <td>0.0</td>\n",
       "      <td>1.0</td>\n",
       "      <td>0.0</td>\n",
       "      <td>0.0</td>\n",
       "      <td>0.0</td>\n",
       "      <td>0.0</td>\n",
       "      <td>0.0</td>\n",
       "      <td>...</td>\n",
       "      <td>0.0</td>\n",
       "      <td>0.0</td>\n",
       "      <td>0.0</td>\n",
       "      <td>1.0</td>\n",
       "      <td>0.0</td>\n",
       "      <td>0.0</td>\n",
       "      <td>0</td>\n",
       "      <td>0</td>\n",
       "      <td>0</td>\n",
       "      <td>1</td>\n",
       "    </tr>\n",
       "    <tr>\n",
       "      <th>36122</th>\n",
       "      <td>30.354927</td>\n",
       "      <td>-91.124828</td>\n",
       "      <td>0.0</td>\n",
       "      <td>0.0</td>\n",
       "      <td>1.0</td>\n",
       "      <td>0.0</td>\n",
       "      <td>0.0</td>\n",
       "      <td>0.0</td>\n",
       "      <td>0.0</td>\n",
       "      <td>0.0</td>\n",
       "      <td>...</td>\n",
       "      <td>0.0</td>\n",
       "      <td>0.0</td>\n",
       "      <td>0.0</td>\n",
       "      <td>1.0</td>\n",
       "      <td>0.0</td>\n",
       "      <td>0.0</td>\n",
       "      <td>1</td>\n",
       "      <td>0</td>\n",
       "      <td>0</td>\n",
       "      <td>0</td>\n",
       "    </tr>\n",
       "  </tbody>\n",
       "</table>\n",
       "<p>36123 rows × 36 columns</p>\n",
       "</div>"
      ],
      "text/plain": [
       "             lat       long  BIRD  CAT  DOG  EXOTIC  FOWL  LIVESTOCK  OTHER  \\\n",
       "0      30.494640 -91.156160   0.0  0.0  1.0     0.0   0.0        0.0    0.0   \n",
       "1      30.431417 -91.141070   0.0  0.0  0.0     0.0   0.0        0.0    0.0   \n",
       "2      30.648540 -91.156770   0.0  0.0  1.0     0.0   0.0        0.0    0.0   \n",
       "3      30.476015 -91.168460   0.0  0.0  1.0     0.0   0.0        0.0    0.0   \n",
       "4      30.429104 -91.185036   0.0  0.0  1.0     0.0   0.0        0.0    0.0   \n",
       "...          ...        ...   ...  ...  ...     ...   ...        ...    ...   \n",
       "36118  30.475130 -91.156157   0.0  0.0  1.0     0.0   0.0        0.0    0.0   \n",
       "36119  30.451468 -91.187147   0.0  0.0  1.0     0.0   0.0        0.0    0.0   \n",
       "36120  30.355068 -91.122734   0.0  0.0  1.0     0.0   0.0        0.0    0.0   \n",
       "36121  30.389151 -91.207927   0.0  0.0  1.0     0.0   0.0        0.0    0.0   \n",
       "36122  30.354927 -91.124828   0.0  0.0  1.0     0.0   0.0        0.0    0.0   \n",
       "\n",
       "       REPTILE  ...  SMALL  EMACIATED  EXCELLENT  FAIR  GOOD  POOR  SUMMER  \\\n",
       "0          0.0  ...    0.0        0.0        0.0   1.0   0.0   0.0       0   \n",
       "1          0.0  ...    0.0        0.0        0.0   1.0   0.0   0.0       0   \n",
       "2          0.0  ...    0.0        1.0        0.0   0.0   0.0   0.0       0   \n",
       "3          0.0  ...    0.0        1.0        0.0   0.0   0.0   0.0       0   \n",
       "4          0.0  ...    1.0        1.0        0.0   0.0   0.0   0.0       0   \n",
       "...        ...  ...    ...        ...        ...   ...   ...   ...     ...   \n",
       "36118      0.0  ...    0.0        0.0        0.0   0.0   1.0   0.0       0   \n",
       "36119      0.0  ...    0.0        0.0        0.0   1.0   0.0   0.0       0   \n",
       "36120      0.0  ...    0.0        0.0        0.0   1.0   0.0   0.0       0   \n",
       "36121      0.0  ...    0.0        0.0        0.0   1.0   0.0   0.0       0   \n",
       "36122      0.0  ...    0.0        0.0        0.0   1.0   0.0   0.0       1   \n",
       "\n",
       "       SPRING  FALL  WINTER  \n",
       "0           0     0       1  \n",
       "1           0     0       1  \n",
       "2           0     0       1  \n",
       "3           0     0       1  \n",
       "4           0     0       1  \n",
       "...       ...   ...     ...  \n",
       "36118       0     0       1  \n",
       "36119       0     0       1  \n",
       "36120       0     1       0  \n",
       "36121       0     0       1  \n",
       "36122       0     0       0  \n",
       "\n",
       "[36123 rows x 36 columns]"
      ]
     },
     "execution_count": 11,
     "metadata": {},
     "output_type": "execute_result"
    }
   ],
   "source": [
    "X"
   ]
  },
  {
   "cell_type": "code",
   "execution_count": 12,
   "id": "33f33a84",
   "metadata": {},
   "outputs": [],
   "source": [
    "X_train, X_test, y_train, y_test = train_test_split(X, y, train_size = .7)"
   ]
  },
  {
   "cell_type": "code",
   "execution_count": 14,
   "id": "827b7b92",
   "metadata": {},
   "outputs": [
    {
     "name": "stdout",
     "output_type": "stream",
     "text": [
      "Training Accuracy without limiting max_depth: 0.9881357272799177\n"
     ]
    }
   ],
   "source": [
    "# find train error\n",
    "mod = DecisionTreeClassifier(criterion='entropy')\n",
    "# train\n",
    "mod.fit(X_train, y_train)\n",
    "# generate predictions on train set\n",
    "pred = mod.predict(X_train)\n",
    "# find accuracy for train set\n",
    "print('Training Accuracy without limiting max_depth: ' + str(accuracy_score(y_train, pred)))"
   ]
  },
  {
   "cell_type": "code",
   "execution_count": 15,
   "id": "6bf1b14b",
   "metadata": {},
   "outputs": [
    {
     "name": "stdout",
     "output_type": "stream",
     "text": [
      "Test Accuracy without limiting max_depth: 0.714404355448925\n"
     ]
    }
   ],
   "source": [
    "# find test error\n",
    "mod = DecisionTreeClassifier(criterion='entropy')\n",
    "# train\n",
    "mod.fit(X_train, y_train)\n",
    "# generate predictions on test set\n",
    "pred = mod.predict(X_test)\n",
    "# find accuracy for test set\n",
    "print('Test Accuracy without limiting max_depth: ' + str(accuracy_score(y_test, pred)))"
   ]
  },
  {
   "cell_type": "code",
   "execution_count": 74,
   "id": "4b518e6d",
   "metadata": {},
   "outputs": [],
   "source": [
    "# somewhat overfit, 27% accuracy loss"
   ]
  },
  {
   "cell_type": "code",
   "execution_count": 16,
   "id": "fee0fb20",
   "metadata": {},
   "outputs": [],
   "source": [
    "# generate error graph with x as the max depth (aka model complexity)\n",
    "train_error = []\n",
    "test_error = []\n",
    "depths = []\n",
    "for depth in range(1, 30):\n",
    "    depths += [depth]\n",
    "    # find train error\n",
    "    mod = DecisionTreeClassifier(criterion='entropy', max_depth=depth, class_weight='balanced')\n",
    "    # train\n",
    "    mod.fit(X_train, y_train)\n",
    "    # generate predictions on train set\n",
    "    pred = mod.predict(X_train)\n",
    "    # find accuracy for train set\n",
    "    train_error += [accuracy_score(y_train, pred)]\n",
    "    \n",
    "    # find test error\n",
    "    mod = DecisionTreeClassifier(criterion='entropy', max_depth=depth, class_weight='balanced')\n",
    "    # train\n",
    "    mod.fit(X_train, y_train)\n",
    "    # generate predictions on test set\n",
    "    pred = mod.predict(X_test)\n",
    "    # find accuracy for test set\n",
    "    test_error += [accuracy_score(y_test, pred)]"
   ]
  },
  {
   "cell_type": "code",
   "execution_count": 17,
   "id": "7ff7d10d",
   "metadata": {},
   "outputs": [
    {
     "data": {
      "image/png": "[encoded data removed]",
      "text/plain": [
       "<Figure size 432x288 with 1 Axes>"
      ]
     },
     "metadata": {
      "needs_background": "light"
     },
     "output_type": "display_data"
    }
   ],
   "source": [
    "# draw graph\n",
    "plt.plot(depths, train_error, label='Train Accuracy')\n",
    "plt.plot(depths, test_error, label='Test Accuracy')\n",
    "plt.xlabel('Max_Depth of Decision Tree')\n",
    "plt.ylabel('Accuracy')\n",
    "plt.legend()\n",
    "plt.title('Train and Test Accuracy for Different Max_Depths (Balanced weights)')\n",
    "plt.show()"
   ]
  },
  {
   "cell_type": "markdown",
   "id": "e174ae04",
   "metadata": {},
   "source": [
    "# Initial RandomForest Model"
   ]
  },
  {
   "cell_type": "code",
   "execution_count": 18,
   "id": "63ce36fe",
   "metadata": {},
   "outputs": [],
   "source": [
    "from sklearn.ensemble import RandomForestClassifier"
   ]
  },
  {
   "cell_type": "code",
   "execution_count": 21,
   "id": "9d64c17d",
   "metadata": {},
   "outputs": [
    {
     "data": {
      "text/plain": [
       "RandomForestClassifier()"
      ]
     },
     "execution_count": 21,
     "metadata": {},
     "output_type": "execute_result"
    }
   ],
   "source": [
    "clf = RandomForestClassifier()\n",
    "clf.fit(X_train, y_train)"
   ]
  },
  {
   "cell_type": "code",
   "execution_count": 22,
   "id": "9283d936",
   "metadata": {},
   "outputs": [
    {
     "name": "stdout",
     "output_type": "stream",
     "text": [
      "Training Accuracy without limiting max_depth: 0.9879379894012497\n"
     ]
    }
   ],
   "source": [
    "pred = clf.predict(X_train)\n",
    "# find accuracy for train set\n",
    "print('Training Accuracy without limiting max_depth: ' + str(accuracy_score(y_train, pred)))"
   ]
  },
  {
   "cell_type": "code",
   "execution_count": 23,
   "id": "d13dcd63",
   "metadata": {},
   "outputs": [
    {
     "name": "stdout",
     "output_type": "stream",
     "text": [
      "Test Accuracy without limiting max_depth: 0.7563901448740427\n"
     ]
    }
   ],
   "source": [
    "pred = clf.predict(X_test)\n",
    "# find accuracy for test set\n",
    "print('Test Accuracy without limiting max_depth: ' + str(accuracy_score(y_test, pred)))"
   ]
  },
  {
   "cell_type": "code",
   "execution_count": 24,
   "id": "7c85eb54",
   "metadata": {},
   "outputs": [
    {
     "data": {
      "text/plain": [
       "0        1\n",
       "1        1\n",
       "2        1\n",
       "3        1\n",
       "4        1\n",
       "        ..\n",
       "36118    1\n",
       "36119    0\n",
       "36120    1\n",
       "36121    1\n",
       "36122    1\n",
       "Length: 36123, dtype: int64"
      ]
     },
     "execution_count": 24,
     "metadata": {},
     "output_type": "execute_result"
    }
   ],
   "source": [
    "y"
   ]
  },
  {
   "cell_type": "code",
   "execution_count": 25,
   "id": "0ae2fd4e",
   "metadata": {},
   "outputs": [
    {
     "data": {
      "text/plain": [
       "0.7706724247709216"
      ]
     },
     "execution_count": 25,
     "metadata": {},
     "output_type": "execute_result"
    }
   ],
   "source": [
    "y.mean()"
   ]
  },
  {
   "cell_type": "code",
   "execution_count": 26,
   "id": "48a14459",
   "metadata": {},
   "outputs": [],
   "source": [
    "from sklearn.metrics import classification_report"
   ]
  },
  {
   "cell_type": "code",
   "execution_count": 28,
   "id": "3226bb4b",
   "metadata": {},
   "outputs": [
    {
     "name": "stdout",
     "output_type": "stream",
     "text": [
      "              precision    recall  f1-score   support\n",
      "\n",
      "           0       0.30      0.47      0.37      1630\n",
      "           1       0.90      0.81      0.85      9207\n",
      "\n",
      "    accuracy                           0.76     10837\n",
      "   macro avg       0.60      0.64      0.61     10837\n",
      "weighted avg       0.81      0.76      0.78     10837\n",
      "\n"
     ]
    }
   ],
   "source": [
    "print(classification_report(pred, y_test))"
   ]
  },
  {
   "cell_type": "markdown",
   "id": "d2ca973b",
   "metadata": {},
   "source": [
    "# Since class=0 (sensitive cases) are under-represtented, apply over-sampling to balance representation"
   ]
  },
  {
   "cell_type": "code",
   "execution_count": 106,
   "id": "67f033b3",
   "metadata": {},
   "outputs": [
    {
     "data": {
      "text/plain": [
       "1.0283344720261138"
      ]
     },
     "execution_count": 106,
     "metadata": {},
     "output_type": "execute_result"
    }
   ],
   "source": [
    "frac = 1/(1 - y.mean()) * 1/2\n",
    "frac"
   ]
  },
  {
   "cell_type": "code",
   "execution_count": 107,
   "id": "f42d08a0",
   "metadata": {},
   "outputs": [],
   "source": [
    "df['Target'] = df['FRIENDLY'] + df['NORMAL']"
   ]
  },
  {
   "cell_type": "code",
   "execution_count": 111,
   "id": "6ab2e0b3",
   "metadata": {},
   "outputs": [],
   "source": [
    "# class 0 is under-represnted class to be oversampled\n",
    "to_append = df[df['Target'] == 0].sample(frac=2, replace=True)"
   ]
  },
  {
   "cell_type": "code",
   "execution_count": 114,
   "id": "0ba95fef",
   "metadata": {},
   "outputs": [],
   "source": [
    "df_overs = pd.concat([df, to_append])"
   ]
  },
  {
   "cell_type": "code",
   "execution_count": 115,
   "id": "d14d8647",
   "metadata": {},
   "outputs": [
    {
     "data": {
      "text/plain": [
       "0.5283444990605606"
      ]
     },
     "execution_count": 115,
     "metadata": {},
     "output_type": "execute_result"
    }
   ],
   "source": [
    "df_overs['Target'].mean()"
   ]
  },
  {
   "cell_type": "code",
   "execution_count": 116,
   "id": "895ef3cf",
   "metadata": {},
   "outputs": [],
   "source": [
    "X = df_overs.drop(columns=['NORMAL', 'FRIENDLY', 'NERVOUS', 'DANGEROUS', 'SCARED', 'Target'])\n",
    "y = df_overs['Target']"
   ]
  },
  {
   "cell_type": "code",
   "execution_count": 117,
   "id": "c7b2080d",
   "metadata": {},
   "outputs": [],
   "source": [
    "X_train, X_test, y_train, y_test = train_test_split(X, y, train_size = .8)"
   ]
  },
  {
   "cell_type": "markdown",
   "id": "6aabb837",
   "metadata": {},
   "source": [
    "# Decision Tree After Oversampling"
   ]
  },
  {
   "cell_type": "code",
   "execution_count": 139,
   "id": "d21fdf8d",
   "metadata": {},
   "outputs": [],
   "source": [
    "# generate error graph with x as the max depth (aka model complexity)\n",
    "train_error = []\n",
    "test_error = []\n",
    "depths = []\n",
    "for depth in range(1, 75):\n",
    "    depths += [depth]\n",
    "    # find train error\n",
    "    mod = DecisionTreeClassifier(criterion='entropy', max_depth=depth, class_weight='balanced')\n",
    "    # train\n",
    "    mod.fit(X_train, y_train)\n",
    "    # generate predictions on train set\n",
    "    pred = mod.predict(X_train)\n",
    "    # find accuracy for train set\n",
    "    train_error += [accuracy_score(y_train, pred)]\n",
    "    # generate predictions on test set\n",
    "    pred = mod.predict(X_test)\n",
    "    # find accuracy for test set\n",
    "    test_error += [accuracy_score(y_test, pred)]"
   ]
  },
  {
   "cell_type": "code",
   "execution_count": 140,
   "id": "41870923",
   "metadata": {},
   "outputs": [
    {
     "data": {
      "image/png": "[encoded data removed]",
      "text/plain": [
       "<Figure size 432x288 with 1 Axes>"
      ]
     },
     "metadata": {
      "needs_background": "light"
     },
     "output_type": "display_data"
    }
   ],
   "source": [
    "# draw graph\n",
    "plt.plot(depths, train_error, label='Train Accuracy')\n",
    "plt.plot(depths, test_error, label='Test Accuracy')\n",
    "plt.xlabel('Max_Depth of Decision Tree')\n",
    "plt.ylabel('Accuracy')\n",
    "plt.legend()\n",
    "plt.title('Train and Test Accuracy for Different Max_Depths (Balanced weights)')\n",
    "plt.show()"
   ]
  },
  {
   "cell_type": "markdown",
   "id": "795ad871",
   "metadata": {},
   "source": [
    "## Random Forest Model after Oversampling"
   ]
  },
  {
   "cell_type": "code",
   "execution_count": 141,
   "id": "6f610891",
   "metadata": {},
   "outputs": [
    {
     "data": {
      "text/plain": [
       "RandomForestClassifier()"
      ]
     },
     "execution_count": 141,
     "metadata": {},
     "output_type": "execute_result"
    }
   ],
   "source": [
    "clf = RandomForestClassifier()\n",
    "clf.fit(X_train, y_train)"
   ]
  },
  {
   "cell_type": "code",
   "execution_count": 142,
   "id": "b86ef0a0",
   "metadata": {},
   "outputs": [
    {
     "name": "stdout",
     "output_type": "stream",
     "text": [
      "Training Accuracy without limiting max_depth: 0.987141772632378\n"
     ]
    }
   ],
   "source": [
    "pred = clf.predict(X_train)\n",
    "# find accuracy for train set\n",
    "print('Training Accuracy without limiting max_depth: ' + str(accuracy_score(y_train, pred)))"
   ]
  },
  {
   "cell_type": "code",
   "execution_count": 143,
   "id": "fc59cb85",
   "metadata": {},
   "outputs": [
    {
     "name": "stdout",
     "output_type": "stream",
     "text": [
      "Test Accuracy without limiting max_depth: 0.8649777018692476\n"
     ]
    }
   ],
   "source": [
    "pred = clf.predict(X_test)\n",
    "# find accuracy for test set\n",
    "print('Test Accuracy without limiting max_depth: ' + str(accuracy_score(y_test, pred)))"
   ]
  },
  {
   "cell_type": "code",
   "execution_count": 144,
   "id": "c3f7b03d",
   "metadata": {},
   "outputs": [
    {
     "name": "stdout",
     "output_type": "stream",
     "text": [
      "              precision    recall  f1-score   support\n",
      "\n",
      "           0       0.81      0.93      0.87      5073\n",
      "           1       0.93      0.80      0.86      5466\n",
      "\n",
      "    accuracy                           0.86     10539\n",
      "   macro avg       0.87      0.87      0.86     10539\n",
      "weighted avg       0.87      0.86      0.86     10539\n",
      "\n"
     ]
    }
   ],
   "source": [
    "print(classification_report(y_test, pred))"
   ]
  },
  {
   "cell_type": "markdown",
   "id": "763b180e",
   "metadata": {},
   "source": [
    "Random forest preforms pretty well, but plotting an overfitting graph has been difficult; messing with n_estimators and max_depth yields flat accuracy curves."
   ]
  },
  {
   "cell_type": "code",
   "execution_count": 146,
   "id": "0d09eb71",
   "metadata": {},
   "outputs": [],
   "source": [
    "from sklearn.metrics import ConfusionMatrixDisplay\n",
    "from sklearn.metrics import confusion_matrix"
   ]
  },
  {
   "cell_type": "code",
   "execution_count": 151,
   "id": "1c8d297e",
   "metadata": {},
   "outputs": [],
   "source": [
    "cm = confusion_matrix(y_test, pred)"
   ]
  },
  {
   "cell_type": "code",
   "execution_count": 157,
   "id": "cbeb9a0f",
   "metadata": {},
   "outputs": [
    {
     "data": {
      "image/png": "[encoded data removed]",
      "text/plain": [
       "<Figure size 432x288 with 2 Axes>"
      ]
     },
     "metadata": {
      "needs_background": "light"
     },
     "output_type": "display_data"
    }
   ],
   "source": [
    "disp = ConfusionMatrixDisplay(confusion_matrix=cm, display_labels=clf.classes_)\n",
    "disp.plot()\n",
    "plt.show()"
   ]
  },
  {
   "cell_type": "markdown",
   "id": "fdcaff49",
   "metadata": {},
   "source": [
    "# Other Ensembles (AdaBoost, XGBoost)"
   ]
  },
  {
   "cell_type": "code",
   "execution_count": 129,
   "id": "0b346aef",
   "metadata": {},
   "outputs": [],
   "source": [
    "from sklearn.ensemble import AdaBoostClassifier"
   ]
  },
  {
   "cell_type": "code",
   "execution_count": 130,
   "id": "7f73d654",
   "metadata": {},
   "outputs": [
    {
     "data": {
      "text/plain": [
       "AdaBoostClassifier()"
      ]
     },
     "execution_count": 130,
     "metadata": {},
     "output_type": "execute_result"
    }
   ],
   "source": [
    "clf = AdaBoostClassifier()\n",
    "clf.fit(X_train, y_train)"
   ]
  },
  {
   "cell_type": "code",
   "execution_count": 131,
   "id": "4a6d71c9",
   "metadata": {},
   "outputs": [
    {
     "name": "stdout",
     "output_type": "stream",
     "text": [
      "Training Accuracy without limiting max_depth: 0.6487711140633896\n"
     ]
    }
   ],
   "source": [
    "pred = clf.predict(X_train)\n",
    "# find accuracy for train set\n",
    "print('Training Accuracy without limiting max_depth: ' + str(accuracy_score(y_train, pred)))"
   ]
  },
  {
   "cell_type": "code",
   "execution_count": 132,
   "id": "b61ddd97",
   "metadata": {},
   "outputs": [
    {
     "name": "stdout",
     "output_type": "stream",
     "text": [
      "Test Accuracy without limiting max_depth: 0.645602049530316\n"
     ]
    }
   ],
   "source": [
    "pred = clf.predict(X_test)\n",
    "# find accuracy for test set\n",
    "print('Test Accuracy without limiting max_depth: ' + str(accuracy_score(y_test, pred)))"
   ]
  },
  {
   "cell_type": "code",
   "execution_count": 133,
   "id": "2bf9af30",
   "metadata": {},
   "outputs": [
    {
     "name": "stdout",
     "output_type": "stream",
     "text": [
      "              precision    recall  f1-score   support\n",
      "\n",
      "           0       0.62      0.67      0.65      5073\n",
      "           1       0.67      0.62      0.64      5466\n",
      "\n",
      "    accuracy                           0.65     10539\n",
      "   macro avg       0.65      0.65      0.65     10539\n",
      "weighted avg       0.65      0.65      0.65     10539\n",
      "\n"
     ]
    }
   ],
   "source": [
    "print(classification_report(y_test, pred))"
   ]
  },
  {
   "cell_type": "code",
   "execution_count": 134,
   "id": "aa203013",
   "metadata": {},
   "outputs": [],
   "source": [
    "from sklearn.ensemble import GradientBoostingClassifier"
   ]
  },
  {
   "cell_type": "code",
   "execution_count": 135,
   "id": "209a8e3e",
   "metadata": {},
   "outputs": [
    {
     "data": {
      "text/plain": [
       "GradientBoostingClassifier()"
      ]
     },
     "execution_count": 135,
     "metadata": {},
     "output_type": "execute_result"
    }
   ],
   "source": [
    "clf = GradientBoostingClassifier()\n",
    "clf.fit(X_train, y_train)"
   ]
  },
  {
   "cell_type": "code",
   "execution_count": 136,
   "id": "42f63abf",
   "metadata": {},
   "outputs": [
    {
     "name": "stdout",
     "output_type": "stream",
     "text": [
      "Training Accuracy without limiting max_depth: 0.6714509394572025\n"
     ]
    }
   ],
   "source": [
    "pred = clf.predict(X_train)\n",
    "# find accuracy for train set\n",
    "print('Training Accuracy without limiting max_depth: ' + str(accuracy_score(y_train, pred)))"
   ]
  },
  {
   "cell_type": "code",
   "execution_count": 137,
   "id": "e3639c32",
   "metadata": {},
   "outputs": [
    {
     "name": "stdout",
     "output_type": "stream",
     "text": [
      "Test Accuracy without limiting max_depth: 0.6586013853306766\n"
     ]
    }
   ],
   "source": [
    "pred = clf.predict(X_test)\n",
    "# find accuracy for test set\n",
    "print('Test Accuracy without limiting max_depth: ' + str(accuracy_score(y_test, pred)))"
   ]
  },
  {
   "cell_type": "code",
   "execution_count": 138,
   "id": "eedb02b8",
   "metadata": {},
   "outputs": [
    {
     "name": "stdout",
     "output_type": "stream",
     "text": [
      "              precision    recall  f1-score   support\n",
      "\n",
      "           0       0.65      0.63      0.64      5073\n",
      "           1       0.67      0.68      0.67      5466\n",
      "\n",
      "    accuracy                           0.66     10539\n",
      "   macro avg       0.66      0.66      0.66     10539\n",
      "weighted avg       0.66      0.66      0.66     10539\n",
      "\n"
     ]
    }
   ],
   "source": [
    "print(classification_report(y_test, pred))"
   ]
  },
  {
   "cell_type": "code",
   "execution_count": null,
   "id": "f61cad10",
   "metadata": {},
   "outputs": [],
   "source": []
  }
 ],
 "metadata": {
  "kernelspec": {
   "display_name": "Python 3 (ipykernel)",
   "language": "python",
   "name": "python3"
  },
  "language_info": {
   "codemirror_mode": {
    "name": "ipython",
    "version": 3
   },
   "file_extension": ".py",
   "mimetype": "text/x-python",
   "name": "python",
   "nbconvert_exporter": "python",
   "pygments_lexer": "ipython3",
   "version": "3.9.7"
  }
 },
 "nbformat": 4,
 "nbformat_minor": 5
}
