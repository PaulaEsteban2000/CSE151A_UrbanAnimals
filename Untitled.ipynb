{
 "cells": [
  {
   "cell_type": "code",
   "execution_count": 35,
   "id": "372325b7",
   "metadata": {},
   "outputs": [],
   "source": [
    "import pandas as pd\n",
    "import numpy as np\n",
    "import matplotlib.pyplot as plt\n",
    "import seaborn as sns\n",
    "import math"
   ]
  },
  {
   "cell_type": "code",
   "execution_count": 2,
   "id": "b1bdfbaa",
   "metadata": {},
   "outputs": [],
   "source": [
    "df = pd.read_csv('BR_Animal_Control_Calls.csv')"
   ]
  },
  {
   "cell_type": "code",
   "execution_count": 3,
   "id": "535253a6",
   "metadata": {},
   "outputs": [
    {
     "data": {
      "text/html": [
       "<div>\n",
       "<style scoped>\n",
       "    .dataframe tbody tr th:only-of-type {\n",
       "        vertical-align: middle;\n",
       "    }\n",
       "\n",
       "    .dataframe tbody tr th {\n",
       "        vertical-align: top;\n",
       "    }\n",
       "\n",
       "    .dataframe thead th {\n",
       "        text-align: right;\n",
       "    }\n",
       "</style>\n",
       "<table border=\"1\" class=\"dataframe\">\n",
       "  <thead>\n",
       "    <tr style=\"text-align: right;\">\n",
       "      <th></th>\n",
       "      <th>file_number</th>\n",
       "      <th>incident_date</th>\n",
       "      <th>request_type</th>\n",
       "      <th>location</th>\n",
       "      <th>municipality</th>\n",
       "      <th>zip_code</th>\n",
       "      <th>species</th>\n",
       "      <th>breed</th>\n",
       "      <th>sex</th>\n",
       "      <th>size</th>\n",
       "      <th>age</th>\n",
       "      <th>condition</th>\n",
       "      <th>temperment</th>\n",
       "      <th>disposition</th>\n",
       "      <th>lat</th>\n",
       "      <th>long</th>\n",
       "    </tr>\n",
       "  </thead>\n",
       "  <tbody>\n",
       "    <tr>\n",
       "      <th>0</th>\n",
       "      <td>201639027</td>\n",
       "      <td>2016-12-27T00:00:00Z</td>\n",
       "      <td>CRUELTY CASE</td>\n",
       "      <td>3366 SYCAMORE, BATON ROUGE, LA.</td>\n",
       "      <td>BATON ROUGE</td>\n",
       "      <td>70805.0</td>\n",
       "      <td>DOG</td>\n",
       "      <td>PITBULL</td>\n",
       "      <td>F</td>\n",
       "      <td>LARGE</td>\n",
       "      <td>NaN</td>\n",
       "      <td>FAIR</td>\n",
       "      <td>FRIENDLY</td>\n",
       "      <td>TRANS CAA</td>\n",
       "      <td>30.494640</td>\n",
       "      <td>-91.156160</td>\n",
       "    </tr>\n",
       "    <tr>\n",
       "      <th>1</th>\n",
       "      <td>201639044</td>\n",
       "      <td>2016-12-28T00:00:00Z</td>\n",
       "      <td>TRAPPED ANIMAL</td>\n",
       "      <td>2582 WOODLAND RIDGE, BATON ROUGE, LA.</td>\n",
       "      <td>BATON ROUGE</td>\n",
       "      <td>70816.0</td>\n",
       "      <td>WILDLIFE</td>\n",
       "      <td>POSSUM</td>\n",
       "      <td>U</td>\n",
       "      <td>LARGE</td>\n",
       "      <td>NaN</td>\n",
       "      <td>FAIR</td>\n",
       "      <td>NORMAL</td>\n",
       "      <td>RETURN TO WILD</td>\n",
       "      <td>30.431417</td>\n",
       "      <td>-91.141070</td>\n",
       "    </tr>\n",
       "    <tr>\n",
       "      <th>2</th>\n",
       "      <td>201639036</td>\n",
       "      <td>2016-12-28T00:00:00Z</td>\n",
       "      <td>STRAY ANIMAL SECURED</td>\n",
       "      <td>4463 MAIN, ZACHARY, LA.</td>\n",
       "      <td>ZACHARY</td>\n",
       "      <td>70791.0</td>\n",
       "      <td>DOG</td>\n",
       "      <td>PITBULL</td>\n",
       "      <td>M</td>\n",
       "      <td>LARGE</td>\n",
       "      <td>NaN</td>\n",
       "      <td>EMACIATED</td>\n",
       "      <td>FRIENDLY</td>\n",
       "      <td>TRANS CAA</td>\n",
       "      <td>30.648540</td>\n",
       "      <td>-91.156770</td>\n",
       "    </tr>\n",
       "    <tr>\n",
       "      <th>3</th>\n",
       "      <td>201639042</td>\n",
       "      <td>2016-12-28T00:00:00Z</td>\n",
       "      <td>ABANDONED DOG</td>\n",
       "      <td>2100 ERIE, BATON ROUGE, LA.</td>\n",
       "      <td>BATON ROUGE</td>\n",
       "      <td>70805.0</td>\n",
       "      <td>DOG</td>\n",
       "      <td>GERMAN SHEPHERD</td>\n",
       "      <td>F</td>\n",
       "      <td>MEDIUM</td>\n",
       "      <td>NaN</td>\n",
       "      <td>EMACIATED</td>\n",
       "      <td>FRIENDLY</td>\n",
       "      <td>TRANS CAA</td>\n",
       "      <td>30.476015</td>\n",
       "      <td>-91.168460</td>\n",
       "    </tr>\n",
       "    <tr>\n",
       "      <th>4</th>\n",
       "      <td>201639059</td>\n",
       "      <td>2016-12-28T00:00:00Z</td>\n",
       "      <td>STRAY ANIMAL SECURED</td>\n",
       "      <td>299 VAN BUREN, BATON ROUGE, LA.</td>\n",
       "      <td>BATON ROUGE</td>\n",
       "      <td>70714.0</td>\n",
       "      <td>DOG</td>\n",
       "      <td>YORKSHIRE TERRIER</td>\n",
       "      <td>F</td>\n",
       "      <td>SMALL</td>\n",
       "      <td>NaN</td>\n",
       "      <td>EMACIATED</td>\n",
       "      <td>NORMAL</td>\n",
       "      <td>TRANS CAA</td>\n",
       "      <td>30.429104</td>\n",
       "      <td>-91.185036</td>\n",
       "    </tr>\n",
       "    <tr>\n",
       "      <th>...</th>\n",
       "      <td>...</td>\n",
       "      <td>...</td>\n",
       "      <td>...</td>\n",
       "      <td>...</td>\n",
       "      <td>...</td>\n",
       "      <td>...</td>\n",
       "      <td>...</td>\n",
       "      <td>...</td>\n",
       "      <td>...</td>\n",
       "      <td>...</td>\n",
       "      <td>...</td>\n",
       "      <td>...</td>\n",
       "      <td>...</td>\n",
       "      <td>...</td>\n",
       "      <td>...</td>\n",
       "      <td>...</td>\n",
       "    </tr>\n",
       "    <tr>\n",
       "      <th>52580</th>\n",
       "      <td>2012244260</td>\n",
       "      <td>2012-11-30T00:00:00Z</td>\n",
       "      <td>NaN</td>\n",
       "      <td>8815 GSRI  2, BATON ROUGE, LA. NA</td>\n",
       "      <td>BATON ROUGE</td>\n",
       "      <td>NaN</td>\n",
       "      <td>DOG</td>\n",
       "      <td>XLABRADOR</td>\n",
       "      <td>F</td>\n",
       "      <td>MEDIUM</td>\n",
       "      <td>0.0</td>\n",
       "      <td>FAIR</td>\n",
       "      <td>FRIENDLY</td>\n",
       "      <td>TRANS CAA</td>\n",
       "      <td>30.355068</td>\n",
       "      <td>-91.122734</td>\n",
       "    </tr>\n",
       "    <tr>\n",
       "      <th>52581</th>\n",
       "      <td>2013252248</td>\n",
       "      <td>2013-04-23T00:00:00Z</td>\n",
       "      <td>NaN</td>\n",
       "      <td>10615 AIRLINE  LOT 65, BATON ROUGE, LA. NA</td>\n",
       "      <td>BATON ROUGE</td>\n",
       "      <td>NaN</td>\n",
       "      <td>CAT</td>\n",
       "      <td>DSH</td>\n",
       "      <td>NaN</td>\n",
       "      <td>LARGE</td>\n",
       "      <td>0.0</td>\n",
       "      <td>FAIR</td>\n",
       "      <td>NERVOUS</td>\n",
       "      <td>TRANS CAA</td>\n",
       "      <td>30.451468</td>\n",
       "      <td>-91.187147</td>\n",
       "    </tr>\n",
       "    <tr>\n",
       "      <th>52582</th>\n",
       "      <td>2012244686</td>\n",
       "      <td>2012-12-08T00:00:00Z</td>\n",
       "      <td>NaN</td>\n",
       "      <td>4000 LAKE BEAU PRE  90, BATON ROUGE, LA. NA</td>\n",
       "      <td>BATON ROUGE</td>\n",
       "      <td>NaN</td>\n",
       "      <td>DOG</td>\n",
       "      <td>X RETRIEVER</td>\n",
       "      <td>M</td>\n",
       "      <td>MEDIUM</td>\n",
       "      <td>0.0</td>\n",
       "      <td>FAIR</td>\n",
       "      <td>FRIENDLY</td>\n",
       "      <td>TRANS CAA</td>\n",
       "      <td>30.389151</td>\n",
       "      <td>-91.207927</td>\n",
       "    </tr>\n",
       "    <tr>\n",
       "      <th>52583</th>\n",
       "      <td>2012235015</td>\n",
       "      <td>2012-06-29T00:00:00Z</td>\n",
       "      <td>NaN</td>\n",
       "      <td>8639 GSRI  C, BATON ROUGE, LA. NA</td>\n",
       "      <td>BATON ROUGE</td>\n",
       "      <td>NaN</td>\n",
       "      <td>DOG</td>\n",
       "      <td>LABRADOR RETRIEVER</td>\n",
       "      <td>M</td>\n",
       "      <td>MEDIUM</td>\n",
       "      <td>0.0</td>\n",
       "      <td>FAIR</td>\n",
       "      <td>FRIENDLY</td>\n",
       "      <td>TRANS CAA</td>\n",
       "      <td>30.354927</td>\n",
       "      <td>-91.124828</td>\n",
       "    </tr>\n",
       "    <tr>\n",
       "      <th>52584</th>\n",
       "      <td>2013249593</td>\n",
       "      <td>2013-03-06T00:00:00Z</td>\n",
       "      <td>NaN</td>\n",
       "      <td>8243 BAYOU FOUNTAIN  1, BATON ROUGE, LA. NA</td>\n",
       "      <td>BATON ROUGE</td>\n",
       "      <td>NaN</td>\n",
       "      <td>CAT</td>\n",
       "      <td>DSH</td>\n",
       "      <td>NaN</td>\n",
       "      <td>MEDIUM</td>\n",
       "      <td>0.0</td>\n",
       "      <td>FAIR</td>\n",
       "      <td>NERVOUS</td>\n",
       "      <td>SPECIAL CASE/OTHER</td>\n",
       "      <td>30.363392</td>\n",
       "      <td>-91.124903</td>\n",
       "    </tr>\n",
       "  </tbody>\n",
       "</table>\n",
       "<p>52585 rows × 16 columns</p>\n",
       "</div>"
      ],
      "text/plain": [
       "       file_number         incident_date          request_type  \\\n",
       "0        201639027  2016-12-27T00:00:00Z          CRUELTY CASE   \n",
       "1        201639044  2016-12-28T00:00:00Z        TRAPPED ANIMAL   \n",
       "2        201639036  2016-12-28T00:00:00Z  STRAY ANIMAL SECURED   \n",
       "3        201639042  2016-12-28T00:00:00Z         ABANDONED DOG   \n",
       "4        201639059  2016-12-28T00:00:00Z  STRAY ANIMAL SECURED   \n",
       "...            ...                   ...                   ...   \n",
       "52580   2012244260  2012-11-30T00:00:00Z                   NaN   \n",
       "52581   2013252248  2013-04-23T00:00:00Z                   NaN   \n",
       "52582   2012244686  2012-12-08T00:00:00Z                   NaN   \n",
       "52583   2012235015  2012-06-29T00:00:00Z                   NaN   \n",
       "52584   2013249593  2013-03-06T00:00:00Z                   NaN   \n",
       "\n",
       "                                          location municipality  zip_code  \\\n",
       "0                  3366 SYCAMORE, BATON ROUGE, LA.  BATON ROUGE   70805.0   \n",
       "1            2582 WOODLAND RIDGE, BATON ROUGE, LA.  BATON ROUGE   70816.0   \n",
       "2                          4463 MAIN, ZACHARY, LA.      ZACHARY   70791.0   \n",
       "3                      2100 ERIE, BATON ROUGE, LA.  BATON ROUGE   70805.0   \n",
       "4                  299 VAN BUREN, BATON ROUGE, LA.  BATON ROUGE   70714.0   \n",
       "...                                            ...          ...       ...   \n",
       "52580            8815 GSRI  2, BATON ROUGE, LA. NA  BATON ROUGE       NaN   \n",
       "52581   10615 AIRLINE  LOT 65, BATON ROUGE, LA. NA  BATON ROUGE       NaN   \n",
       "52582  4000 LAKE BEAU PRE  90, BATON ROUGE, LA. NA  BATON ROUGE       NaN   \n",
       "52583            8639 GSRI  C, BATON ROUGE, LA. NA  BATON ROUGE       NaN   \n",
       "52584  8243 BAYOU FOUNTAIN  1, BATON ROUGE, LA. NA  BATON ROUGE       NaN   \n",
       "\n",
       "        species               breed  sex    size  age  condition temperment  \\\n",
       "0           DOG             PITBULL    F   LARGE  NaN       FAIR   FRIENDLY   \n",
       "1      WILDLIFE              POSSUM    U   LARGE  NaN       FAIR     NORMAL   \n",
       "2           DOG             PITBULL    M   LARGE  NaN  EMACIATED   FRIENDLY   \n",
       "3           DOG     GERMAN SHEPHERD    F  MEDIUM  NaN  EMACIATED   FRIENDLY   \n",
       "4           DOG   YORKSHIRE TERRIER    F   SMALL  NaN  EMACIATED     NORMAL   \n",
       "...         ...                 ...  ...     ...  ...        ...        ...   \n",
       "52580       DOG           XLABRADOR    F  MEDIUM  0.0       FAIR   FRIENDLY   \n",
       "52581       CAT                 DSH  NaN   LARGE  0.0       FAIR    NERVOUS   \n",
       "52582       DOG         X RETRIEVER    M  MEDIUM  0.0       FAIR   FRIENDLY   \n",
       "52583       DOG  LABRADOR RETRIEVER    M  MEDIUM  0.0       FAIR   FRIENDLY   \n",
       "52584       CAT                 DSH  NaN  MEDIUM  0.0       FAIR    NERVOUS   \n",
       "\n",
       "              disposition        lat       long  \n",
       "0               TRANS CAA  30.494640 -91.156160  \n",
       "1          RETURN TO WILD  30.431417 -91.141070  \n",
       "2               TRANS CAA  30.648540 -91.156770  \n",
       "3               TRANS CAA  30.476015 -91.168460  \n",
       "4               TRANS CAA  30.429104 -91.185036  \n",
       "...                   ...        ...        ...  \n",
       "52580           TRANS CAA  30.355068 -91.122734  \n",
       "52581           TRANS CAA  30.451468 -91.187147  \n",
       "52582           TRANS CAA  30.389151 -91.207927  \n",
       "52583           TRANS CAA  30.354927 -91.124828  \n",
       "52584  SPECIAL CASE/OTHER  30.363392 -91.124903  \n",
       "\n",
       "[52585 rows x 16 columns]"
      ]
     },
     "execution_count": 3,
     "metadata": {},
     "output_type": "execute_result"
    }
   ],
   "source": [
    "df"
   ]
  },
  {
   "cell_type": "code",
   "execution_count": 10,
   "id": "d3c6a4f9",
   "metadata": {},
   "outputs": [],
   "source": [
    "#sns.pairplot(df[['request_type', 'municipality', 'zip_code', 'species', 'breed', 'sex', 'condition', 'disposition']])"
   ]
  },
  {
   "cell_type": "code",
   "execution_count": 9,
   "id": "5fcacd15",
   "metadata": {},
   "outputs": [
    {
     "data": {
      "text/html": [
       "<div>\n",
       "<style scoped>\n",
       "    .dataframe tbody tr th:only-of-type {\n",
       "        vertical-align: middle;\n",
       "    }\n",
       "\n",
       "    .dataframe tbody tr th {\n",
       "        vertical-align: top;\n",
       "    }\n",
       "\n",
       "    .dataframe thead th {\n",
       "        text-align: right;\n",
       "    }\n",
       "</style>\n",
       "<table border=\"1\" class=\"dataframe\">\n",
       "  <thead>\n",
       "    <tr style=\"text-align: right;\">\n",
       "      <th></th>\n",
       "      <th>request_type</th>\n",
       "      <th>municipality</th>\n",
       "      <th>zip_code</th>\n",
       "      <th>species</th>\n",
       "      <th>breed</th>\n",
       "      <th>sex</th>\n",
       "      <th>condition</th>\n",
       "      <th>disposition</th>\n",
       "    </tr>\n",
       "  </thead>\n",
       "  <tbody>\n",
       "    <tr>\n",
       "      <th>0</th>\n",
       "      <td>CRUELTY CASE</td>\n",
       "      <td>BATON ROUGE</td>\n",
       "      <td>70805.0</td>\n",
       "      <td>DOG</td>\n",
       "      <td>PITBULL</td>\n",
       "      <td>F</td>\n",
       "      <td>FAIR</td>\n",
       "      <td>TRANS CAA</td>\n",
       "    </tr>\n",
       "    <tr>\n",
       "      <th>1</th>\n",
       "      <td>TRAPPED ANIMAL</td>\n",
       "      <td>BATON ROUGE</td>\n",
       "      <td>70816.0</td>\n",
       "      <td>WILDLIFE</td>\n",
       "      <td>POSSUM</td>\n",
       "      <td>U</td>\n",
       "      <td>FAIR</td>\n",
       "      <td>RETURN TO WILD</td>\n",
       "    </tr>\n",
       "    <tr>\n",
       "      <th>2</th>\n",
       "      <td>STRAY ANIMAL SECURED</td>\n",
       "      <td>ZACHARY</td>\n",
       "      <td>70791.0</td>\n",
       "      <td>DOG</td>\n",
       "      <td>PITBULL</td>\n",
       "      <td>M</td>\n",
       "      <td>EMACIATED</td>\n",
       "      <td>TRANS CAA</td>\n",
       "    </tr>\n",
       "    <tr>\n",
       "      <th>3</th>\n",
       "      <td>ABANDONED DOG</td>\n",
       "      <td>BATON ROUGE</td>\n",
       "      <td>70805.0</td>\n",
       "      <td>DOG</td>\n",
       "      <td>GERMAN SHEPHERD</td>\n",
       "      <td>F</td>\n",
       "      <td>EMACIATED</td>\n",
       "      <td>TRANS CAA</td>\n",
       "    </tr>\n",
       "    <tr>\n",
       "      <th>4</th>\n",
       "      <td>STRAY ANIMAL SECURED</td>\n",
       "      <td>BATON ROUGE</td>\n",
       "      <td>70714.0</td>\n",
       "      <td>DOG</td>\n",
       "      <td>YORKSHIRE TERRIER</td>\n",
       "      <td>F</td>\n",
       "      <td>EMACIATED</td>\n",
       "      <td>TRANS CAA</td>\n",
       "    </tr>\n",
       "    <tr>\n",
       "      <th>...</th>\n",
       "      <td>...</td>\n",
       "      <td>...</td>\n",
       "      <td>...</td>\n",
       "      <td>...</td>\n",
       "      <td>...</td>\n",
       "      <td>...</td>\n",
       "      <td>...</td>\n",
       "      <td>...</td>\n",
       "    </tr>\n",
       "    <tr>\n",
       "      <th>52580</th>\n",
       "      <td>NaN</td>\n",
       "      <td>BATON ROUGE</td>\n",
       "      <td>NaN</td>\n",
       "      <td>DOG</td>\n",
       "      <td>XLABRADOR</td>\n",
       "      <td>F</td>\n",
       "      <td>FAIR</td>\n",
       "      <td>TRANS CAA</td>\n",
       "    </tr>\n",
       "    <tr>\n",
       "      <th>52581</th>\n",
       "      <td>NaN</td>\n",
       "      <td>BATON ROUGE</td>\n",
       "      <td>NaN</td>\n",
       "      <td>CAT</td>\n",
       "      <td>DSH</td>\n",
       "      <td>NaN</td>\n",
       "      <td>FAIR</td>\n",
       "      <td>TRANS CAA</td>\n",
       "    </tr>\n",
       "    <tr>\n",
       "      <th>52582</th>\n",
       "      <td>NaN</td>\n",
       "      <td>BATON ROUGE</td>\n",
       "      <td>NaN</td>\n",
       "      <td>DOG</td>\n",
       "      <td>X RETRIEVER</td>\n",
       "      <td>M</td>\n",
       "      <td>FAIR</td>\n",
       "      <td>TRANS CAA</td>\n",
       "    </tr>\n",
       "    <tr>\n",
       "      <th>52583</th>\n",
       "      <td>NaN</td>\n",
       "      <td>BATON ROUGE</td>\n",
       "      <td>NaN</td>\n",
       "      <td>DOG</td>\n",
       "      <td>LABRADOR RETRIEVER</td>\n",
       "      <td>M</td>\n",
       "      <td>FAIR</td>\n",
       "      <td>TRANS CAA</td>\n",
       "    </tr>\n",
       "    <tr>\n",
       "      <th>52584</th>\n",
       "      <td>NaN</td>\n",
       "      <td>BATON ROUGE</td>\n",
       "      <td>NaN</td>\n",
       "      <td>CAT</td>\n",
       "      <td>DSH</td>\n",
       "      <td>NaN</td>\n",
       "      <td>FAIR</td>\n",
       "      <td>SPECIAL CASE/OTHER</td>\n",
       "    </tr>\n",
       "  </tbody>\n",
       "</table>\n",
       "<p>52585 rows × 8 columns</p>\n",
       "</div>"
      ],
      "text/plain": [
       "               request_type municipality  zip_code   species  \\\n",
       "0              CRUELTY CASE  BATON ROUGE   70805.0       DOG   \n",
       "1            TRAPPED ANIMAL  BATON ROUGE   70816.0  WILDLIFE   \n",
       "2      STRAY ANIMAL SECURED      ZACHARY   70791.0       DOG   \n",
       "3             ABANDONED DOG  BATON ROUGE   70805.0       DOG   \n",
       "4      STRAY ANIMAL SECURED  BATON ROUGE   70714.0       DOG   \n",
       "...                     ...          ...       ...       ...   \n",
       "52580                   NaN  BATON ROUGE       NaN       DOG   \n",
       "52581                   NaN  BATON ROUGE       NaN       CAT   \n",
       "52582                   NaN  BATON ROUGE       NaN       DOG   \n",
       "52583                   NaN  BATON ROUGE       NaN       DOG   \n",
       "52584                   NaN  BATON ROUGE       NaN       CAT   \n",
       "\n",
       "                    breed  sex  condition         disposition  \n",
       "0                 PITBULL    F       FAIR           TRANS CAA  \n",
       "1                  POSSUM    U       FAIR      RETURN TO WILD  \n",
       "2                 PITBULL    M  EMACIATED           TRANS CAA  \n",
       "3         GERMAN SHEPHERD    F  EMACIATED           TRANS CAA  \n",
       "4       YORKSHIRE TERRIER    F  EMACIATED           TRANS CAA  \n",
       "...                   ...  ...        ...                 ...  \n",
       "52580           XLABRADOR    F       FAIR           TRANS CAA  \n",
       "52581                 DSH  NaN       FAIR           TRANS CAA  \n",
       "52582         X RETRIEVER    M       FAIR           TRANS CAA  \n",
       "52583  LABRADOR RETRIEVER    M       FAIR           TRANS CAA  \n",
       "52584                 DSH  NaN       FAIR  SPECIAL CASE/OTHER  \n",
       "\n",
       "[52585 rows x 8 columns]"
      ]
     },
     "execution_count": 9,
     "metadata": {},
     "output_type": "execute_result"
    }
   ],
   "source": [
    "df[['request_type', 'municipality', 'zip_code', 'species', 'breed', 'sex', 'condition', 'disposition']]"
   ]
  },
  {
   "cell_type": "code",
   "execution_count": 13,
   "id": "c06da574",
   "metadata": {},
   "outputs": [
    {
     "data": {
      "text/plain": [
       "32850"
      ]
     },
     "execution_count": 13,
     "metadata": {},
     "output_type": "execute_result"
    }
   ],
   "source": [
    "df['request_type'].isnull().sum()"
   ]
  },
  {
   "cell_type": "code",
   "execution_count": 22,
   "id": "5e9f43c6",
   "metadata": {},
   "outputs": [
    {
     "name": "stdout",
     "output_type": "stream",
     "text": [
      "Nan's in file_number: 0\n",
      "Nan's in incident_date: 0\n",
      "Nan's in request_type: 32850\n",
      "Nan's in location: 0\n",
      "Nan's in municipality: 0\n",
      "Nan's in zip_code: 28400\n",
      "Nan's in species: 21\n",
      "Nan's in breed: 815\n",
      "Nan's in sex: 12348\n",
      "Nan's in size: 1270\n",
      "Nan's in age: 19679\n",
      "Nan's in condition: 2202\n",
      "Nan's in temperment: 1599\n",
      "Nan's in disposition: 7\n",
      "Nan's in lat: 0\n",
      "Nan's in long: 0\n"
     ]
    }
   ],
   "source": [
    "counts = []\n",
    "cols = []\n",
    "for col in df.columns:\n",
    "    print(\"Nan's in \" + col + ': ' + str(df[col].isnull().sum()))\n",
    "    counts += [df[col].isnull().sum()]\n",
    "    cols += [col]"
   ]
  },
  {
   "cell_type": "code",
   "execution_count": 23,
   "id": "9ecec139",
   "metadata": {},
   "outputs": [
    {
     "data": {
      "text/plain": [
       "[0, 0, 32850, 0, 0, 28400, 21, 815, 12348, 1270, 19679, 2202, 1599, 7, 0, 0]"
      ]
     },
     "execution_count": 23,
     "metadata": {},
     "output_type": "execute_result"
    }
   ],
   "source": [
    "counts"
   ]
  },
  {
   "cell_type": "code",
   "execution_count": 24,
   "id": "62b3ef19",
   "metadata": {},
   "outputs": [
    {
     "data": {
      "text/plain": [
       "['file_number',\n",
       " 'incident_date',\n",
       " 'request_type',\n",
       " 'location',\n",
       " 'municipality',\n",
       " 'zip_code',\n",
       " 'species',\n",
       " 'breed',\n",
       " 'sex',\n",
       " 'size',\n",
       " 'age',\n",
       " 'condition',\n",
       " 'temperment',\n",
       " 'disposition',\n",
       " 'lat',\n",
       " 'long']"
      ]
     },
     "execution_count": 24,
     "metadata": {},
     "output_type": "execute_result"
    }
   ],
   "source": [
    "cols"
   ]
  },
  {
   "cell_type": "code",
   "execution_count": 25,
   "id": "a78d940c",
   "metadata": {},
   "outputs": [
    {
     "data": {
      "text/plain": [
       "16"
      ]
     },
     "execution_count": 25,
     "metadata": {},
     "output_type": "execute_result"
    }
   ],
   "source": [
    "len(cols)"
   ]
  },
  {
   "cell_type": "code",
   "execution_count": 28,
   "id": "2deed994",
   "metadata": {},
   "outputs": [
    {
     "data": {
      "text/plain": [
       "array([[<matplotlib.patches.Rectangle object at 0x00000181AA92FC40>,\n",
       "        <matplotlib.patches.Rectangle object at 0x00000181AA92FC40>,\n",
       "        <matplotlib.patches.Rectangle object at 0x00000181AA92FC40>,\n",
       "        <matplotlib.patches.Rectangle object at 0x00000181AA92FC40>],\n",
       "       [<matplotlib.patches.Rectangle object at 0x00000181AA92FEE0>,\n",
       "        <matplotlib.patches.Rectangle object at 0x00000181AA92FEE0>,\n",
       "        <matplotlib.patches.Rectangle object at 0x00000181AA92FEE0>,\n",
       "        <matplotlib.patches.Rectangle object at 0x00000181AA92FEE0>],\n",
       "       [<matplotlib.patches.Rectangle object at 0x00000181AA93E190>,\n",
       "        <matplotlib.patches.Rectangle object at 0x00000181AA93E190>,\n",
       "        <matplotlib.patches.Rectangle object at 0x00000181AA93E190>,\n",
       "        <matplotlib.patches.Rectangle object at 0x00000181AA93E190>],\n",
       "       [<matplotlib.patches.Rectangle object at 0x00000181AA93E400>,\n",
       "        <matplotlib.patches.Rectangle object at 0x00000181AA93E400>,\n",
       "        <matplotlib.patches.Rectangle object at 0x00000181AA93E400>,\n",
       "        <matplotlib.patches.Rectangle object at 0x00000181AA93E400>]],\n",
       "      dtype=object)"
      ]
     },
     "execution_count": 28,
     "metadata": {},
     "output_type": "execute_result"
    }
   ],
   "source": [
    "axs"
   ]
  },
  {
   "cell_type": "code",
   "execution_count": 43,
   "id": "73186222",
   "metadata": {},
   "outputs": [
    {
     "data": {
      "image/png": "[encoded data removed]",
      "text/plain": [
       "<Figure size 720x720 with 16 Axes>"
      ]
     },
     "metadata": {
      "needs_background": "light"
     },
     "output_type": "display_data"
    }
   ],
   "source": [
    "fig, axs = plt.subplots(4, 4, figsize=(10, 10), sharey=True)\n",
    "for i in range(len(cols)):\n",
    "    axs[math.floor(i/4)][i%4].bar(cols[i], counts[i])\n",
    "    #print(i%4)\n",
    "fig.suptitle('Counts of Missing Data per Col')\n",
    "plt.show()"
   ]
  },
  {
   "cell_type": "code",
   "execution_count": 29,
   "id": "766d7225",
   "metadata": {},
   "outputs": [
    {
     "data": {
      "text/plain": [
       "array([<matplotlib.patches.Rectangle object at 0x00000181AA92FC40>,\n",
       "       <matplotlib.patches.Rectangle object at 0x00000181AA92FC40>,\n",
       "       <matplotlib.patches.Rectangle object at 0x00000181AA92FC40>,\n",
       "       <matplotlib.patches.Rectangle object at 0x00000181AA92FC40>],\n",
       "      dtype=object)"
      ]
     },
     "execution_count": 29,
     "metadata": {},
     "output_type": "execute_result"
    }
   ],
   "source": [
    "axs[0]"
   ]
  },
  {
   "cell_type": "code",
   "execution_count": 55,
   "id": "17ba98fb",
   "metadata": {},
   "outputs": [
    {
     "data": {
      "image/png": "[encoded data removed]",
      "text/plain": [
       "<Figure size 432x288 with 1 Axes>"
      ]
     },
     "metadata": {
      "needs_background": "light"
     },
     "output_type": "display_data"
    }
   ],
   "source": [
    "plt.figsize=(10,16)\n",
    "plt.bar(cols, counts)\n",
    "plt.xticks(rotation=70)\n",
    "plt.title('Count of Missing Data per Column')\n",
    "plt.show()"
   ]
  },
  {
   "cell_type": "code",
   "execution_count": null,
   "id": "fa014fc9",
   "metadata": {},
   "outputs": [],
   "source": []
  },
  {
   "cell_type": "code",
   "execution_count": null,
   "id": "eb5767e4",
   "metadata": {},
   "outputs": [],
   "source": [
    "import pandas as pd\n",
    "import numpy as np\n",
    "import matplotlib.pyplot as plt\n",
    "import seaborn as sns\n",
    "import math"
   ]
  },
  {
   "cell_type": "code",
   "execution_count": null,
   "id": "09474543",
   "metadata": {},
   "outputs": [],
   "source": [
    "df = pd.read_csv('BR_Animal_Control_Calls.csv')"
   ]
  },
  {
   "cell_type": "code",
   "execution_count": 58,
   "id": "3df485fa",
   "metadata": {},
   "outputs": [
    {
     "data": {
      "image/png": "[encoded data removed]",
      "text/plain": [
       "<Figure size 432x288 with 1 Axes>"
      ]
     },
     "metadata": {
      "needs_background": "light"
     },
     "output_type": "display_data"
    }
   ],
   "source": [
    "import pandas as pd\n",
    "import numpy as np\n",
    "import matplotlib.pyplot as plt\n",
    "import seaborn as sns\n",
    "import math\n",
    "df = pd.read_csv('BR_Animal_Control_Calls.csv')\n",
    "counts = []\n",
    "cols = []\n",
    "for col in df.columns:\n",
    "    counts += [df[col].isnull().sum()]\n",
    "    cols += [col]\n",
    "plt.figsize=(10,16)\n",
    "plt.bar(cols, counts)\n",
    "plt.xticks(rotation=70)\n",
    "plt.title('Count of Missing Data per Column')\n",
    "plt.show()"
   ]
  },
  {
   "cell_type": "code",
   "execution_count": null,
   "id": "bb3d4fb3",
   "metadata": {},
   "outputs": [],
   "source": []
  }
 ],
 "metadata": {
  "kernelspec": {
   "display_name": "Python 3 (ipykernel)",
   "language": "python",
   "name": "python3"
  },
  "language_info": {
   "codemirror_mode": {
    "name": "ipython",
    "version": 3
   },
   "file_extension": ".py",
   "mimetype": "text/x-python",
   "name": "python",
   "nbconvert_exporter": "python",
   "pygments_lexer": "ipython3",
   "version": "3.9.7"
  }
 },
 "nbformat": 4,
 "nbformat_minor": 5
}
